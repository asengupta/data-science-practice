{
 "cells": [
  {
   "cell_type": "code",
   "execution_count": null,
   "metadata": {},
   "outputs": [],
   "source": [
    "import logging\n",
    "import matplotlib.pyplot as plt\n",
    "import numpy as np\n",
    "import pandas as pd"
   ]
  },
  {
   "cell_type": "code",
   "execution_count": null,
   "metadata": {},
   "outputs": [],
   "source": [
    "logging.basicConfig(level=logging.INFO)"
   ]
  },
  {
   "cell_type": "markdown",
   "metadata": {},
   "source": [
    "## Investment Assignment"
   ]
  },
  {
   "cell_type": "markdown",
   "metadata": {},
   "source": [
    "## Introduction<br>\n",
    "This is the Assignment for the Investment case study for Spark Funds. **Spark Funds**, an asset management company. Spark Funds wants to make investments in a few companies. The CEO of Spark Funds wants to understand the **global trends in investments** so that she can take the investment decisions effectively.<br>\n",
    "<br>\n",
    "## Business Understanding and Domain (CRISP-DM Step #1)<br>\n",
    "- Spark Funds wants to invest **between 5 to 15 million USD** per round of investment<br>\n",
    "- Spark Funds wants to invest **only in English-speaking countries** because of the ease of communication with the companies it would invest in<br>\n",
    "- Spark Funds wants to invest where most other investors are investing. This pattern is often observed among early stage startup investors."
   ]
  },
  {
   "cell_type": "markdown",
   "metadata": {},
   "source": [
    "## Objective<br>\n",
    "The objective is to identify the **best sectors, countries, and a suitable investment type** for making investments. The overall strategy is to invest where others are investing, implying that the 'best' sectors and countries are the ones 'where most investors are investing'."
   ]
  },
  {
   "cell_type": "markdown",
   "metadata": {},
   "source": [
    "## Data Sources<br>\n",
    "- Company Profiles (Crunchbase)<br>\n",
    "- Investment Rounds Data (Crunchbase)<br>\n",
    "- Category Mapping"
   ]
  },
  {
   "cell_type": "code",
   "execution_count": null,
   "metadata": {},
   "outputs": [],
   "source": [
    "ENGLISH_COUNTRIES = ['AUS', 'NZL', 'GBR', 'USA', 'ATG', 'BHS', 'BRB', 'BLZ', 'BWA', 'BDI', 'CMR', 'CAN', 'DMA', 'SWZ',\n",
    "                     'FJI', 'GMB', 'GHA', 'GRD', 'GUY', 'IND', 'IRL', 'JAM', 'KEN', 'KIR', 'LSO', 'LBR', 'MWI', 'MLT',\n",
    "                     'MHL', 'MUS', 'FSM', 'NAM', 'NRU', 'NGA', 'PAK', 'PLW', 'PNG', 'PHL', 'KNA', 'LCA', 'VCT', 'WSM',\n",
    "                     'SYC', 'SLE', 'SGP', 'SLB', 'ZAF', 'SSD', 'SDN', 'TZA', 'TON', 'TTO', 'TUV', 'VUT', 'ZMB', 'ZWE',\n",
    "                     'BHR', 'BGD', 'BRN', 'KHM', 'CYP', 'ERI', 'ETH', 'ISR', 'JOR', 'KWT', 'MYS', 'MDV', 'MMR', 'OMN',\n",
    "                     'QAT', 'RWA', 'LKA', 'UGA', 'ARE']"
   ]
  },
  {
   "cell_type": "markdown",
   "metadata": {},
   "source": [
    "The above English-speaking countries have been taken from Wikipedia using a script which uses BeautifulSoup to scrape the HTML tables, and output the result as a list."
   ]
  },
  {
   "cell_type": "code",
   "execution_count": null,
   "metadata": {},
   "outputs": [],
   "source": [
    "ORGANIZATION = \"/organization/\"\n",
    "EMPTY_STRING = \"\"\n",
    "FIVE_MILLION = 5000000\n",
    "FIFTEEN_MILLION = 15000000"
   ]
  },
  {
   "cell_type": "markdown",
   "metadata": {},
   "source": [
    "A bunch of constants are set up so that strings don't clutter the source everywhere."
   ]
  },
  {
   "cell_type": "code",
   "execution_count": null,
   "metadata": {},
   "outputs": [],
   "source": [
    "class MainSectors:\n",
    "    OTHERS = \"Others\"\n",
    "    HEALTH = \"Health\"\n",
    "    MANUFACTURING = \"Manufacturing\"\n",
    "    SOCIAL_FINANCE_ANALYTICS_ADVERTISING = \"Social, Finance, Analytics, Advertising\"\n",
    "    ENTERTAINMENT = \"Entertainment\"\n",
    "    NEWS_SEARCH_MESSAGING = \"News, Search and Messaging\"\n",
    "    CLEANTECH_SEMICONDUCTORS = \"Cleantech / Semiconductors\""
   ]
  },
  {
   "cell_type": "code",
   "execution_count": null,
   "metadata": {},
   "outputs": [],
   "source": [
    "class Columns:\n",
    "    TOTAL_INVESTMENT_AMOUNT = \"total_investment_amount\"\n",
    "    NUMBER_OF_INVESTMENTS = \"number_of_investments\"\n",
    "    ROUNDS2_COMPANY_PERMALINK = \"company_permalink\"\n",
    "    COMPANIES_COMPANY_PERMALINK = \"permalink\"\n",
    "    ROUNDS2_COMPANY_PERMALINK_LOWERCASE = \"company_permalink_lowercase\"\n",
    "    COMPANIES_COMPANY_PERMALINK_LOWERCASE = \"permalink_lowercase\"\n",
    "    COMPANIES_NAME = \"name\"\n",
    "    ORGANIZATION = \"/organization/\"\n",
    "    FUNDING_ROUND_TYPE = \"funding_round_type\"\n",
    "    RAISED_AMOUNT_USD = \"raised_amount_usd\"\n",
    "    COUNTRY_CODE = \"country_code\"\n",
    "    CATEGORY_LIST = \"category_list\"\n",
    "    VALUE = \"value\"\n",
    "    VARIABLE = \"variable\"\n",
    "    PRIMARY_SECTOR = \"primary_sector\"\n",
    "    MAIN_SECTOR = \"main_sector\""
   ]
  },
  {
   "cell_type": "code",
   "execution_count": null,
   "metadata": {},
   "outputs": [],
   "source": [
    "class InvestmentTypes:\n",
    "    SEED = \"seed\"\n",
    "    ANGEL = \"angel\"\n",
    "    VENTURE = \"venture\"\n",
    "    PRIVATE_EQUITY = \"private_equity\""
   ]
  },
  {
   "cell_type": "markdown",
   "metadata": {},
   "source": [
    "This is used to generate permalinks from company names"
   ]
  },
  {
   "cell_type": "code",
   "execution_count": null,
   "metadata": {},
   "outputs": [],
   "source": [
    "def sanitized(s):\n",
    "    return s.replace(\" \", \"-\").replace(\".\", \"-\")"
   ]
  },
  {
   "cell_type": "code",
   "execution_count": null,
   "metadata": {},
   "outputs": [],
   "source": [
    "def with_organization_prefix(s):\n",
    "    return f\"{ORGANIZATION}{s}\""
   ]
  },
  {
   "cell_type": "markdown",
   "metadata": {},
   "source": [
    "This is used to generate a pattern which is used to locate a permalink within the rounds frame"
   ]
  },
  {
   "cell_type": "code",
   "execution_count": null,
   "metadata": {},
   "outputs": [],
   "source": [
    "def pattern_for_rounds_matching(company_name):\n",
    "    return f'{ORGANIZATION}{sanitized(company_name.lower())}'"
   ]
  },
  {
   "cell_type": "code",
   "execution_count": null,
   "metadata": {},
   "outputs": [],
   "source": [
    "def constant(x):\n",
    "    return lambda company_name: x"
   ]
  },
  {
   "cell_type": "code",
   "execution_count": null,
   "metadata": {},
   "outputs": [],
   "source": [
    "def merge_companies_rounds(companies, rounds):\n",
    "    logging.info(f\"Number of Companies: {len(companies)}\")\n",
    "    logging.info(f\"Number of Rounds: {len(rounds)}\")\n",
    "    return pd.merge(companies, rounds, left_on=Columns.COMPANIES_COMPANY_PERMALINK_LOWERCASE,\n",
    "                    right_on=Columns.ROUNDS2_COMPANY_PERMALINK_LOWERCASE)"
   ]
  },
  {
   "cell_type": "code",
   "execution_count": null,
   "metadata": {},
   "outputs": [],
   "source": [
    "def boxplot(investment_type, x, y, axis, funding_by_investment_type):\n",
    "    logging.info(f\"Statistics for {investment_type} investments:\")\n",
    "    logging.info(funding_by_investment_type.loc[investment_type, Columns.RAISED_AMOUNT_USD].describe().apply(\n",
    "        lambda x: format(x, 'f')))\n",
    "    # logging.info(f\"Number of {investment_type} investments: {len(stuff.loc[investment_type, Columns.RAISED_AMOUNT_USD])}\" )\n",
    "    # logging.info(f\"Median investment oof type {investment_type}: {stuff.loc[investment_type, Columns.RAISED_AMOUNT_USD].median()}\" )\n",
    "    axis[x, y].boxplot(funding_by_investment_type.loc[investment_type, Columns.RAISED_AMOUNT_USD])\n",
    "    axis[x, y].set_title(investment_type)"
   ]
  },
  {
   "cell_type": "code",
   "execution_count": null,
   "metadata": {},
   "outputs": [],
   "source": [
    "def analyse_investment_types(master_funding):\n",
    "    # Use only 4 investment types\n",
    "    investments_with_4_types = master_funding[(master_funding[Columns.FUNDING_ROUND_TYPE] == InvestmentTypes.ANGEL) |\n",
    "                                              (master_funding[Columns.FUNDING_ROUND_TYPE] == InvestmentTypes.SEED) |\n",
    "                                              (master_funding[Columns.FUNDING_ROUND_TYPE] == InvestmentTypes.VENTURE) |\n",
    "                                              (master_funding[\n",
    "                                                   Columns.FUNDING_ROUND_TYPE] == InvestmentTypes.PRIVATE_EQUITY)]\n",
    "    logging.info(f\"Only English Investments of 4 Types: {len(investments_with_4_types)}\")\n",
    "    funding_amounts_with_investment_types = investments_with_4_types[\n",
    "        [Columns.FUNDING_ROUND_TYPE, Columns.RAISED_AMOUNT_USD]]\n",
    "\n",
    "    # Remove outliers\n",
    "    funding_by_investment_type = funding_amounts_with_investment_types.groupby(Columns.FUNDING_ROUND_TYPE)\n",
    "    funding_by_investment_type_without_outliers = funding_by_investment_type.apply(lambda g: g[\n",
    "        (g[Columns.RAISED_AMOUNT_USD] > g[Columns.RAISED_AMOUNT_USD].quantile(q=0.05)) & (\n",
    "                g[Columns.RAISED_AMOUNT_USD] < g[Columns.RAISED_AMOUNT_USD].quantile(q=0.90))])\n",
    "\n",
    "    # Create boxplots\n",
    "    figure, axis = plt.subplots(2, 2)\n",
    "    boxplot(InvestmentTypes.SEED, 0, 0, axis, funding_by_investment_type_without_outliers)\n",
    "    boxplot(InvestmentTypes.ANGEL, 0, 1, axis, funding_by_investment_type_without_outliers)\n",
    "    boxplot(InvestmentTypes.VENTURE, 1, 0, axis, funding_by_investment_type_without_outliers)\n",
    "    boxplot(InvestmentTypes.PRIVATE_EQUITY, 1, 1, axis, funding_by_investment_type_without_outliers)\n",
    "    return investments_with_4_types"
   ]
  },
  {
   "cell_type": "code",
   "execution_count": null,
   "metadata": {},
   "outputs": [],
   "source": [
    "def english_speaking_countries(fundings):\n",
    "    only_english_company_investments = fundings[fundings[Columns.COUNTRY_CODE].isin(ENGLISH_COUNTRIES)]\n",
    "    logging.info(f\"English Company Investments: {len(only_english_company_investments)}\")\n",
    "    logging.info(f\"Non-English Company Investments: {len(fundings) - len(only_english_company_investments)}\")\n",
    "    return only_english_company_investments"
   ]
  },
  {
   "cell_type": "code",
   "execution_count": null,
   "metadata": {},
   "outputs": [],
   "source": [
    "def top_9_countries(investments):\n",
    "    aggregator = {}\n",
    "    aggregator[Columns.RAISED_AMOUNT_USD] = \"sum\"\n",
    "    investments_by_country = investments.groupby(Columns.COUNTRY_CODE)\n",
    "    sorted_countrywise_investments = investments_by_country.agg(aggregator).reset_index(level=0,\n",
    "                                                                                        inplace=False).sort_values(\n",
    "        by=Columns.RAISED_AMOUNT_USD, ascending=False)\n",
    "    logging.info(f\"Countrywise Investments:\")\n",
    "    logging.info(sorted_countrywise_investments)\n",
    "    return sorted_countrywise_investments.head(9)"
   ]
  },
  {
   "cell_type": "code",
   "execution_count": null,
   "metadata": {},
   "outputs": [],
   "source": [
    "def investments_for_country_with_investment_constraints(investments, country_code):\n",
    "    return investments[(investments[Columns.COUNTRY_CODE] == country_code) &\n",
    "                       (investments[Columns.RAISED_AMOUNT_USD] >= FIVE_MILLION) &\n",
    "                       (investments[Columns.RAISED_AMOUNT_USD] <= FIFTEEN_MILLION)]"
   ]
  },
  {
   "cell_type": "code",
   "execution_count": null,
   "metadata": {},
   "outputs": [],
   "source": [
    "def heavily_invested_sectors(investments, top9):\n",
    "    logging.info(top9)\n",
    "    country_1 = top9[Columns.COUNTRY_CODE].iloc[0]\n",
    "    country_2 = top9[Columns.COUNTRY_CODE].iloc[1]\n",
    "    country_3 = top9[Columns.COUNTRY_CODE].iloc[2]\n",
    "    logging.info(f\"{country_1}-{country_2}-{country_3}\")\n",
    "    D1 = investments_for_country_with_investment_constraints(investments, country_1)\n",
    "    D2 = investments_for_country_with_investment_constraints(investments, country_2)\n",
    "    D3 = investments_for_country_with_investment_constraints(investments, country_3)\n",
    "    logging.info(f\"1. {country_1}: {len(D1)}\")\n",
    "    logging.info(f\"2. {country_2}: {len(D2)}\")\n",
    "    logging.info(f\"3. {country_3}: {len(D3)}\")\n",
    "    data = [aggregate_investment_stats(country_1, D1),\n",
    "            aggregate_investment_stats(country_2, D2),\n",
    "            aggregate_investment_stats(country_3, D3)]\n",
    "    aggregate_investment_stats_by_country = pd.DataFrame(data,\n",
    "                                                         columns=[Columns.COUNTRY_CODE, Columns.TOTAL_INVESTMENT_AMOUNT,\n",
    "                                                                  Columns.NUMBER_OF_INVESTMENTS])\n",
    "    logging.info(\"AGGREGATE_INVESTMENT_STATS_BY_COUNTRY:\")\n",
    "    logging.info(\"--------------------------------------\")\n",
    "    logging.info(aggregate_investment_stats_by_country)\n",
    "    d1_sectorwise_statistics = sectorwise_stats(country_1, D1)\n",
    "    d2_sectorwise_statistics = sectorwise_stats(country_2, D2)\n",
    "    d3_sectorwise_statistics = sectorwise_stats(country_3, D3)\n",
    "    return aggregate_investment_stats_by_country, d1_sectorwise_statistics, d2_sectorwise_statistics, d3_sectorwise_statistics, D1, D2, D3"
   ]
  },
  {
   "cell_type": "code",
   "execution_count": null,
   "metadata": {},
   "outputs": [],
   "source": [
    "def aggregate_investment_stats(country_code, country_investment_table):\n",
    "    return [country_code, country_investment_table[Columns.RAISED_AMOUNT_USD].sum(), len(country_investment_table)]"
   ]
  },
  {
   "cell_type": "code",
   "execution_count": null,
   "metadata": {},
   "outputs": [],
   "source": [
    "def sectorwise_stats(country_code, investments):\n",
    "    investments_by_main_sector = investments.groupby(Columns.MAIN_SECTOR)\n",
    "    sectorwise_investment_statistics = investments_by_main_sector.agg({Columns.RAISED_AMOUNT_USD: [\"sum\", \"count\"]})\n",
    "    sectorwise_investment_statistics.columns = sectorwise_investment_statistics.columns.droplevel(0)\n",
    "    sectorwise_investment_statistics = sectorwise_investment_statistics.sort_values(by=\"count\", ascending=False)\n",
    "    logging.info(f\"SECTORWISE_INVESTMENT_STATISTICS for {country_code}\")\n",
    "    logging.info(\"---------------------------------------------\")\n",
    "    logging.info(sectorwise_investment_statistics)\n",
    "    return sectorwise_investment_statistics.reset_index()"
   ]
  },
  {
   "cell_type": "code",
   "execution_count": null,
   "metadata": {},
   "outputs": [],
   "source": [
    "def fix_case(companies, rounds):\n",
    "    companies[Columns.COMPANIES_COMPANY_PERMALINK_LOWERCASE] = companies[\n",
    "        Columns.COMPANIES_COMPANY_PERMALINK].str.lower()\n",
    "    rounds[Columns.ROUNDS2_COMPANY_PERMALINK_LOWERCASE] = rounds[Columns.ROUNDS2_COMPANY_PERMALINK].str.lower()"
   ]
  },
  {
   "cell_type": "markdown",
   "metadata": {},
   "source": [
    "This is the main function which is invoked to run all the analyses and generate all the plots."
   ]
  },
  {
   "cell_type": "code",
   "execution_count": null,
   "metadata": {},
   "outputs": [],
   "source": [
    "def analyse():\n",
    "    companies = pd.read_csv(\"../data/companies.csv\")\n",
    "    rounds = pd.read_csv(\"../data/rounds2.csv\")\n",
    "    mapping = pd.read_csv(\"../data/mapping.csv\")\n",
    "    logging.debug(companies.columns)\n",
    "    logging.debug(mapping.columns)\n",
    "    logging.debug(rounds.columns)\n",
    "    sector_map = mapping_dict(mapping)\n",
    "\n",
    "    # Fix case\n",
    "    fix_case(companies, rounds)\n",
    "    unique_companies_in_companies, unique_companies_in_rounds2 = unique_companies(companies, rounds)\n",
    "\n",
    "    # How many unique companies are present in rounds?\n",
    "    logging.info(f\"Unique companies in rounds2 (Before Cleanup): {len(unique_companies_in_rounds2)}\")\n",
    "\n",
    "    # How many unique companies are present in companies?\n",
    "    logging.info(f\"Unique companies in companies (Before Cleanup): {len(unique_companies_in_companies)}\")\n",
    "\n",
    "    # In the companies data frame, which column can be used as the unique key for each company? Write the name of the column.\n",
    "    # permalink\n",
    "\n",
    "    # Are there any companies in the rounds file which are not present in companies? Answer yes or no: Y/N\n",
    "    companies_not_in_companies = set(unique_companies_in_rounds2).difference(set(unique_companies_in_companies))\n",
    "    companies_not_in_rounds2 = set(unique_companies_in_companies).difference(set(unique_companies_in_rounds2))\n",
    "    logging.info(f\"Companies in rounds2 but not in companies: {len(companies_not_in_companies)}\")\n",
    "    logging.debug(companies_not_in_companies)\n",
    "    logging.info(f\"Companies in companies but not in rounds2: {len(companies_not_in_rounds2)}\")\n",
    "    # YES\n",
    "    unique_companies_in_companies_after_cleanup, unique_companies_in_rounds2_after_cleanup = clean_permalinks(companies,\n",
    "                                                                                                              rounds)\n",
    "    # How many unique companies are present in rounds?\n",
    "    logging.info(f\"Unique companies in rounds2 (After Cleanup): {len(unique_companies_in_rounds2_after_cleanup)}\")\n",
    "\n",
    "    # How many unique companies are present in companies?\n",
    "    logging.info(f\"Unique companies in companies (After Cleanup): {len(unique_companies_in_companies_after_cleanup)}\")\n",
    "    master_frame = merge_companies_rounds(companies, rounds)\n",
    "    setup_sectors(master_frame, sector_map)\n",
    "    logging.info(f\"MASTER FUNDING FRAME: {len(master_frame)}\")\n",
    "    logging.info(master_frame.columns)\n",
    "    logging.debug(master_frame.head(10))\n",
    "    logging.info(\"-----------------------------------------\")\n",
    "    english_master_funding = english_speaking_countries(master_frame)\n",
    "    logging.info(f\"Only English Investments: {len(english_master_funding)}\")\n",
    "    investments_english_4_types = analyse_investment_types(english_master_funding)\n",
    "\n",
    "    # Calculate the most representative value of the investment amount for each of the four funding types (venture, angel, seed, and private equity) and report the answers in Table 2.1\n",
    "    # Based on the most representative investment amount calculated above, which investment type do you think is the most suitable for Spark Funds?\n",
    "    # Venture Investments\n",
    "    english_venture_investments_with_outliers = investments_english_4_types[\n",
    "        investments_english_4_types[Columns.FUNDING_ROUND_TYPE] == InvestmentTypes.VENTURE]\n",
    "    logging.info(f\"English-only Venture Investments Selected: {len(english_venture_investments_with_outliers)}\")\n",
    "    top9 = top_9_countries(english_venture_investments_with_outliers)\n",
    "    logging.info(\"Top 9 Countrywise Investments:\")\n",
    "    logging.info(top9)\n",
    "    logging.info(\"---------------------------------------------\")\n",
    "    # Fill Top 3 Countries from the Above List\n",
    "    logging.info(english_venture_investments_with_outliers[Columns.MAIN_SECTOR].head(10))\n",
    "    aggregate_investment_stats_by_country, d1_sectorwise_stats, d2_sectorwise_stats, d3_sectorwise_stats, D1, D2, D3 = heavily_invested_sectors(\n",
    "        english_venture_investments_with_outliers, top9)\n",
    "    most_invested_company_in_ranked_sector(0, D1, d1_sectorwise_stats)\n",
    "    most_invested_company_in_ranked_sector(1, D1, d1_sectorwise_stats)\n",
    "    logging.info(\"-------------------------------------------------------------------\")\n",
    "    most_invested_company_in_ranked_sector(0, D2, d2_sectorwise_stats)\n",
    "    most_invested_company_in_ranked_sector(1, D2, d2_sectorwise_stats)\n",
    "    logging.info(\"-------------------------------------------------------------------\")\n",
    "    most_invested_company_in_ranked_sector(0, D3, d3_sectorwise_stats)\n",
    "    most_invested_company_in_ranked_sector(1, D3, d3_sectorwise_stats)\n",
    "    logging.info(\"-------------------------------------------------------------------\")\n",
    "    plot_top_9_countries_by_investment_amount(top9)\n",
    "    plot_top_3_sectors_by_count_by_country(d1_sectorwise_stats, d2_sectorwise_stats, d3_sectorwise_stats, D1, D2, D3)\n",
    "    plt.subplots_adjust(hspace=1.5)\n",
    "    plt.show()"
   ]
  },
  {
   "cell_type": "code",
   "execution_count": null,
   "metadata": {},
   "outputs": [],
   "source": [
    "def plot_top_3_sectors_by_count_by_country(d1_sectorwise_stats, d2_sectorwise_stats, d3_sectorwise_stats, D1, D2, D3):\n",
    "    f3, a3 = plt.subplots(1, 3)\n",
    "    plot_top_3_sectors_by_count_for_country(a3[0], d1_sectorwise_stats, D1)\n",
    "    plot_top_3_sectors_by_count_for_country(a3[1], d2_sectorwise_stats, D2)\n",
    "    plot_top_3_sectors_by_count_for_country(a3[2], d3_sectorwise_stats, D3)"
   ]
  },
  {
   "cell_type": "code",
   "execution_count": null,
   "metadata": {},
   "outputs": [],
   "source": [
    "def plot_top_9_countries_by_investment_amount(top9):\n",
    "    f2, a2 = plt.subplots(1, 1)\n",
    "    a2.tick_params(labelrotation=90)\n",
    "    a2.set_title(\"Top 9 Countries by Investment Amount (Log Count)\")\n",
    "    log_count = np.log10(top9[Columns.RAISED_AMOUNT_USD])\n",
    "    a2.bar(top9[Columns.COUNTRY_CODE], log_count)"
   ]
  },
  {
   "cell_type": "code",
   "execution_count": null,
   "metadata": {},
   "outputs": [],
   "source": [
    "def plot_top_3_sectors_by_count_for_country(axes, d1_sectorwise_stats, investments_for_country):\n",
    "    axes.tick_params(labelrotation=90)\n",
    "    axes.set_title(f\"Investment for {investments_for_country.iloc[0][Columns.COUNTRY_CODE]}\")\n",
    "    axes.bar(d1_sectorwise_stats[Columns.MAIN_SECTOR][:3], (d1_sectorwise_stats[\"count\"][:3]))"
   ]
  },
  {
   "cell_type": "code",
   "execution_count": null,
   "metadata": {},
   "outputs": [],
   "source": [
    "def most_invested_company_in_ranked_sector(sector_rank, investments_for_country, country_sectorwise_stats):\n",
    "    ranked_sector_in_country = country_sectorwise_stats[Columns.MAIN_SECTOR].iloc[sector_rank]\n",
    "    sorted_investments_in_top_sector_for_country = investments_for_country[\n",
    "        investments_for_country[Columns.MAIN_SECTOR] == ranked_sector_in_country].sort_values(\n",
    "        by=Columns.RAISED_AMOUNT_USD)\n",
    "    country_code = sorted_investments_in_top_sector_for_country[Columns.COUNTRY_CODE].iloc[0]\n",
    "    most_invested_company = sorted_investments_in_top_sector_for_country[Columns.COMPANIES_NAME].iloc[0]\n",
    "    investment_in_most_invested_company = sorted_investments_in_top_sector_for_country[Columns.RAISED_AMOUNT_USD].iloc[\n",
    "        0]\n",
    "    logging.info(\n",
    "        f\"MOST INVESTED COMPANY IN {country_code} for sector {ranked_sector_in_country}, ranked #{sector_rank + 1}: {most_invested_company}\")\n",
    "    return [country_code, ranked_sector_in_country, sector_rank, most_invested_company,\n",
    "            investment_in_most_invested_company]"
   ]
  },
  {
   "cell_type": "code",
   "execution_count": null,
   "metadata": {},
   "outputs": [],
   "source": [
    "def setup_sectors(master_funding, sector_map):\n",
    "    master_funding[Columns.PRIMARY_SECTOR] = master_funding[Columns.CATEGORY_LIST].str.split(\"|\").apply(\n",
    "        lambda splits: splits[0] if isinstance(splits, list) else EMPTY_STRING)\n",
    "    master_funding[Columns.MAIN_SECTOR] = master_funding[Columns.PRIMARY_SECTOR].apply(\n",
    "        lambda primary_sector: sector_map[primary_sector])"
   ]
  },
  {
   "cell_type": "markdown",
   "metadata": {},
   "source": [
    "This is part of the data cleaning exercise for mappings. Primary sectors are usually connected to a main sector, but there are several primary sectors do not have this mapping.<br>\n",
    "This function adds those missing mappings."
   ]
  },
  {
   "cell_type": "code",
   "execution_count": null,
   "metadata": {},
   "outputs": [],
   "source": [
    "def mapping_dict(mapping):\n",
    "    mapping = mapping.melt([Columns.CATEGORY_LIST])\n",
    "\n",
    "    # Cleaning data\n",
    "    mapping[Columns.CATEGORY_LIST] = mapping[Columns.CATEGORY_LIST].str.replace(\"0\", \"na\")\n",
    "    mapping.loc[mapping[Columns.CATEGORY_LIST] == \"nanotechnology\", Columns.CATEGORY_LIST] = \"Nanotechnology\"\n",
    "    mapping.loc[mapping[\n",
    "                    Columns.CATEGORY_LIST] == \"natural Language Processing\", Columns.CATEGORY_LIST] = \"Natural Language Processing\"\n",
    "    mapping.loc[mapping[Columns.CATEGORY_LIST] == \"natural Resources\", Columns.CATEGORY_LIST] = \"Natural Resources\"\n",
    "    mapping.loc[mapping[Columns.CATEGORY_LIST] == \"navigation\", Columns.CATEGORY_LIST] = \"Navigation\"\n",
    "    mapping = mapping[mapping[Columns.VALUE] == 1][[Columns.CATEGORY_LIST, Columns.VARIABLE]]\n",
    "    mappings_as_list = mapping.values.tolist()\n",
    "    mapping_as_dict = {}\n",
    "    for pair in mappings_as_list:\n",
    "        mapping_as_dict[pair[0] if isinstance(pair[0], str) else EMPTY_STRING] = pair[1]\n",
    "    mapping_as_dict[\"Self Development\"] = MainSectors.SOCIAL_FINANCE_ANALYTICS_ADVERTISING\n",
    "    mapping_as_dict[\"Cause Marketing\"] = MainSectors.SOCIAL_FINANCE_ANALYTICS_ADVERTISING\n",
    "    mapping_as_dict[\"Real Estate Investors\"] = MainSectors.SOCIAL_FINANCE_ANALYTICS_ADVERTISING\n",
    "    mapping_as_dict[\"English-Speaking\"] = MainSectors.SOCIAL_FINANCE_ANALYTICS_ADVERTISING\n",
    "    mapping_as_dict[\"Navigation\"] = MainSectors.OTHERS\n",
    "    mapping_as_dict[\"Deep Information Technology\"] = MainSectors.SOCIAL_FINANCE_ANALYTICS_ADVERTISING\n",
    "    mapping_as_dict[\"Toys\"] = MainSectors.ENTERTAINMENT\n",
    "    mapping_as_dict[\"Generation Y-Z\"] = MainSectors.SOCIAL_FINANCE_ANALYTICS_ADVERTISING\n",
    "    mapping_as_dict[\"Spas\"] = MainSectors.HEALTH\n",
    "    mapping_as_dict[\"Enterprise Hardware\"] = MainSectors.OTHERS\n",
    "    mapping_as_dict[\"Social Media Advertising\"] = MainSectors.SOCIAL_FINANCE_ANALYTICS_ADVERTISING\n",
    "    mapping_as_dict[\"Darknet\"] = MainSectors.OTHERS\n",
    "    mapping_as_dict[\"Natural Gas Uses\"] = MainSectors.OTHERS\n",
    "    mapping_as_dict[\"Natural Language Processing\"] = MainSectors.SOCIAL_FINANCE_ANALYTICS_ADVERTISING\n",
    "    mapping_as_dict[\"Internet Technology\"] = MainSectors.SOCIAL_FINANCE_ANALYTICS_ADVERTISING\n",
    "    mapping_as_dict[\"Nightlife\"] = MainSectors.SOCIAL_FINANCE_ANALYTICS_ADVERTISING\n",
    "    mapping_as_dict[\"Adaptive Equipment\"] = MainSectors.OTHERS\n",
    "    mapping_as_dict[\"Enterprise 2.0\"] = MainSectors.NEWS_SEARCH_MESSAGING\n",
    "    mapping_as_dict[\"Natural Resources\"] = MainSectors.OTHERS\n",
    "    mapping_as_dict[\"Tutoring\"] = MainSectors.SOCIAL_FINANCE_ANALYTICS_ADVERTISING\n",
    "    mapping_as_dict[\"Internet TV\"] = MainSectors.ENTERTAINMENT\n",
    "    mapping_as_dict[\"Skill Gaming\"] = MainSectors.ENTERTAINMENT\n",
    "    mapping_as_dict[\"Racing\"] = MainSectors.ENTERTAINMENT\n",
    "    mapping_as_dict[\"Specialty Retail\"] = MainSectors.OTHERS\n",
    "    mapping_as_dict[\"Swimming\"] = MainSectors.HEALTH\n",
    "    mapping_as_dict[\"Registrars\"] = MainSectors.OTHERS\n",
    "    mapping_as_dict[\"Golf Equipment\"] = MainSectors.ENTERTAINMENT\n",
    "    mapping_as_dict[\"Biotechnology and Semiconductor\"] = MainSectors.CLEANTECH_SEMICONDUCTORS\n",
    "    mapping_as_dict[\"Vacation Rentals\"] = MainSectors.SOCIAL_FINANCE_ANALYTICS_ADVERTISING\n",
    "    mapping_as_dict[\"Google Glass\"] = MainSectors.NEWS_SEARCH_MESSAGING\n",
    "    mapping_as_dict[\"Rapidly Expanding\"] = MainSectors.OTHERS\n",
    "    mapping_as_dict[\"Infrastructure Builders\"] = MainSectors.MANUFACTURING\n",
    "    mapping_as_dict[\"Group Email\"] = MainSectors.NEWS_SEARCH_MESSAGING\n",
    "    mapping_as_dict[\"Kinect\"] = MainSectors.ENTERTAINMENT\n",
    "    mapping_as_dict[\"Product Search\"] = MainSectors.NEWS_SEARCH_MESSAGING\n",
    "    mapping_as_dict[\"Sex Industry\"] = MainSectors.ENTERTAINMENT\n",
    "    mapping_as_dict[\"Psychology\"] = MainSectors.SOCIAL_FINANCE_ANALYTICS_ADVERTISING\n",
    "    mapping_as_dict[\"Testing\"] = MainSectors.OTHERS\n",
    "    mapping_as_dict[\"GreenTech\"] = MainSectors.CLEANTECH_SEMICONDUCTORS\n",
    "    mapping_as_dict[\"Subscription Businesses\"] = MainSectors.NEWS_SEARCH_MESSAGING\n",
    "    mapping_as_dict[\"Retirement\"] = MainSectors.SOCIAL_FINANCE_ANALYTICS_ADVERTISING\n",
    "    mapping_as_dict[\"Lingerie\"] = MainSectors.OTHERS\n",
    "    mapping_as_dict[\"Experience Design\"] = MainSectors.SOCIAL_FINANCE_ANALYTICS_ADVERTISING\n",
    "    mapping_as_dict[\"Mobile Emergency&Health\"] = MainSectors.HEALTH\n",
    "    mapping_as_dict[\"Sponsorship\"] = MainSectors.SOCIAL_FINANCE_ANALYTICS_ADVERTISING\n",
    "    logging.debug(\"Mapping is:\")\n",
    "    logging.debug(mapping_as_dict)\n",
    "    return mapping_as_dict"
   ]
  },
  {
   "cell_type": "markdown",
   "metadata": {},
   "source": [
    "This is part of the data cleaning exercise for companies and rounds.<br>\n",
    "Permalinks are sometimes corrupted because of mistranslation of special characters<br>\n",
    "This function fixes those permalinks."
   ]
  },
  {
   "cell_type": "code",
   "execution_count": null,
   "metadata": {},
   "outputs": [],
   "source": [
    "def clean_permalinks(companies, rounds):\n",
    "    # ### Pattern 1\n",
    "    # This is the most common type of malformed data. In this the permalink in the *companies* dataset is malformed, mostly because it uses Mandarin characters. The corresponding company name is well-formed. The corresponding permalink in the *rounds2* data set is also well-formed.\n",
    "    fix_permalink_from_rounds = fix_permalink_from_rounds_builder(pattern_for_rounds_matching, companies, rounds)\n",
    "    fix_permalink_from_rounds(\"Boréal Bikes Incorporated\")\n",
    "    fix_permalink_from_rounds(\"Tío Conejo\")\n",
    "    fix_permalink_from_rounds(\"Monnier Frères\")\n",
    "    fix_permalink_from_rounds(\"Affluent Attaché Club\",\n",
    "                              locator=constant(with_organization_prefix(\"affluent-attaché-club-2\")))\n",
    "    fix_permalink_from_rounds(\"Jean Pütz Produkte\")\n",
    "    fix_permalink_from_rounds(\"PatroFİN\")\n",
    "    fix_permalink_from_rounds(\"Salão VIP\")\n",
    "    fix_permalink_from_rounds(\"Proděti.cz\")\n",
    "    fix_permalink_from_rounds(\"LawPadi\", locator=constant(with_organization_prefix(\"lawpàdí\")))\n",
    "    fix_permalink_from_rounds(\"eTool.io\")\n",
    "    fix_permalink_from_rounds(\"Crème & Ciseaux\", locator=constant(with_organization_prefix(\"crème-ciseaux\")))\n",
    "    fix_permalink_from_rounds(\"Prześwietl.pl\")\n",
    "    fix_permalink_from_rounds(\"Capptú\")\n",
    "    fix_permalink_from_rounds(\"Gráfica en línea\")\n",
    "    fix_permalink_from_rounds(\"IGNIA Bienes Raíces\")\n",
    "    fix_permalink_from_rounds(\"Bricoprivé.com\")\n",
    "    fix_permalink_from_rounds(\"Médica Santa Carmen\",\n",
    "                              locator=constant(with_organization_prefix(\"médica-santa-carmen-2\")))\n",
    "    fix_permalink_from_rounds(\"E CÚBICA\", locator=constant(with_organization_prefix(\"e-cêbica\")))\n",
    "    fix_permalink_from_rounds(\"Vá de Táxi\")\n",
    "\n",
    "    # ### Pattern 3\n",
    "    # The third common pattern of malformed data is where the *companies* dataset has the correctly generated permalink, but the corresponding permalink in the *rounds2* dataset is malformed.\n",
    "    fix_permalink_from_companies(\"It’s All About Me\", \"S-ALL-ABOUT-ME\", companies, rounds)\n",
    "    fix_permalink_from_companies(\"Whodat’s Spaces\", \"WHODAT\", companies, rounds)\n",
    "    fix_permalink_from_companies(\"know’N’act\", \"KNOW\", companies, rounds)\n",
    "    fix_permalink_from_companies(\"iProof - The Foundation for the Internet of Things™\",\n",
    "                                 \"IPROOF---THE-FOUNDATION-FOR-THE-INTERNET-OF-THINGS\", companies, rounds)\n",
    "    fix_permalink_from_companies(\"ÁERON\", \"�eron\", companies, rounds)\n",
    "    # This needs some extra fixing\n",
    "    fix_permalink_from_companies(\"Crème & Ciseaux\", \"e-ciseaux\", companies, rounds)\n",
    "\n",
    "    # ### Pattern 2\n",
    "    # This is the second most common type of malformed data. In this case, the permalinks for a company are malformed in different ways in both the *companies* and *rounds2* dataset, and thus do not match. This occurs because of Mandarin characters in the company name not translating correcting to the permalinks. The solution is to regenerate the permalink from the (well-formed) company name and use that in both the *companies* and *rounds2* dataset.\n",
    "    regenerate_permalink(\"ZenGame\", \"ZenGame 禅游科技\", companies, rounds)\n",
    "    regenerate_permalink(\"EnergyStone Games\", \"EnergyStone Games 灵石游戏\", companies, rounds)\n",
    "    regenerate_permalink(\"Magnet Tech \", \"Magnet Tech 磁石科技\", companies, rounds)\n",
    "    regenerate_permalink(\"Huizuche.com\", \"Huizuche.com 惠租车\", companies, rounds)\n",
    "    regenerate_permalink(\"Inveno \", \"Inveno 英威诺\", companies, rounds)\n",
    "    regenerate_permalink(\"Weiche Tech \", \"Weiche Tech 喂车科技\", companies, rounds)\n",
    "    regenerate_permalink(\"TipCat Interactive\", \"TipCat Interactive 沙舟信息科技\", companies, rounds)\n",
    "    regenerate_permalink(\"Jiwu\", \"Jiwu 吉屋网\", companies, rounds)\n",
    "    regenerate_permalink(\"TalentSigned\", \"TalentSigned™\", companies, rounds)\n",
    "    regenerate_permalink(\"Asiansbook\", \"Asiansbook™\", companies, rounds)\n",
    "    regenerate_permalink(\"Reklam-Ve-Tan\", \"İnovatiff Reklam ve Tanıtım Hizmetleri Tic\", companies, rounds, EMPTY_STRING)\n",
    "    regenerate_permalink(\"thế-giới-di\", \"The Gioi Di Dong\", companies,\n",
    "                         rounds)  # This permalink is mangled in both data sets, generated new permalink\n",
    "    regenerate_permalink(\"k��k\", \"KÖÖK\", companies, rounds)\n",
    "    unique_companies_in_companies, unique_companies_in_rounds = unique_companies(companies, rounds)\n",
    "    logging.debug(set(unique_companies_in_rounds).difference(set(unique_companies_in_companies)))\n",
    "    logging.debug(set(unique_companies_in_companies).difference(set(unique_companies_in_rounds)))\n",
    "    return unique_companies_in_companies, unique_companies_in_rounds"
   ]
  },
  {
   "cell_type": "markdown",
   "metadata": {},
   "source": [
    "This regenerates permalinks from a company name<br>\n",
    "For **Pattern 2**, the permalinks were regenerated by sanitising the (well-formed) company name and copied over to the *companies* and *rounds2* dataset."
   ]
  },
  {
   "cell_type": "code",
   "execution_count": null,
   "metadata": {},
   "outputs": [],
   "source": [
    "def regenerate_permalink(company_name_prefix, full_company_name, companies, rounds2,\n",
    "                         optional_organization_prefix=ORGANIZATION):\n",
    "    dashed_company_name_prefix = sanitized(company_name_prefix)\n",
    "    dashed_lowercase_full_company_name = sanitized(full_company_name).lower()\n",
    "    corrected_permalink_lowercase = (f'/organization/{dashed_lowercase_full_company_name}').lower()\n",
    "    logging.debug(corrected_permalink_lowercase)\n",
    "    companies.loc[companies[Columns.COMPANIES_NAME].str.contains(full_company_name,\n",
    "                                                                 na=False), Columns.COMPANIES_COMPANY_PERMALINK_LOWERCASE] = corrected_permalink_lowercase\n",
    "    rounds2.loc[rounds2[Columns.ROUNDS2_COMPANY_PERMALINK].str.contains(\n",
    "        f'{optional_organization_prefix}{dashed_company_name_prefix}',\n",
    "        na=False, case=False, regex=False), Columns.ROUNDS2_COMPANY_PERMALINK_LOWERCASE] = corrected_permalink_lowercase\n",
    "    logging.debug(companies[companies[Columns.COMPANIES_COMPANY_PERMALINK_LOWERCASE].str.contains(corrected_permalink_lowercase,\n",
    "                                                                                          na=False, case=False)])\n",
    "    logging.debug(rounds2[\n",
    "              rounds2[Columns.ROUNDS2_COMPANY_PERMALINK_LOWERCASE].str.contains(corrected_permalink_lowercase, na=False,\n",
    "                                                                                case=False)])"
   ]
  },
  {
   "cell_type": "markdown",
   "metadata": {},
   "source": [
    "For **Pattern 1**, the permalinks in the *rounds2* dataset were copied over to the *companies* dataset, after using suitable search patterns."
   ]
  },
  {
   "cell_type": "code",
   "execution_count": null,
   "metadata": {},
   "outputs": [],
   "source": [
    "def fix_permalink_from_rounds_builder(company_permalink_locator_in_round, companies, rounds):\n",
    "    def fix_permalink_from_rounds_inner(company_name, locator=company_permalink_locator_in_round):\n",
    "        company_permalink_from_rounds = locator(company_name)\n",
    "        correct_value_rows = rounds[\n",
    "            rounds[Columns.ROUNDS2_COMPANY_PERMALINK_LOWERCASE] == company_permalink_from_rounds]\n",
    "        corrected_value = correct_value_rows.iloc[0][Columns.ROUNDS2_COMPANY_PERMALINK_LOWERCASE]\n",
    "        companies.loc[companies[\n",
    "                          Columns.COMPANIES_NAME] == company_name, Columns.COMPANIES_COMPANY_PERMALINK_LOWERCASE] = corrected_value\n",
    "        logging.debug(companies[companies[Columns.COMPANIES_NAME] == company_name].to_string())\n",
    "        logging.debug(rounds[rounds[Columns.ROUNDS2_COMPANY_PERMALINK_LOWERCASE] == corrected_value].to_string())\n",
    "    return fix_permalink_from_rounds_inner"
   ]
  },
  {
   "cell_type": "markdown",
   "metadata": {},
   "source": [
    "For **Pattern 3**, the permalinks in the *companies* dataset were copied over to the *rounds2* dataset, after using suitable search patterns."
   ]
  },
  {
   "cell_type": "code",
   "execution_count": null,
   "metadata": {},
   "outputs": [],
   "source": [
    "def fix_permalink_from_companies(company_name, rounds_permalink_fragment, companies, rounds,\n",
    "                                 truth_column=Columns.COMPANIES_COMPANY_PERMALINK_LOWERCASE):\n",
    "    correct_value_rows = companies[companies[Columns.COMPANIES_NAME] == company_name]\n",
    "    lowercase_corrected_value = correct_value_rows.iloc[0][truth_column].lower()\n",
    "    rounds.loc[rounds[Columns.ROUNDS2_COMPANY_PERMALINK_LOWERCASE].str.contains(rounds_permalink_fragment, na=False,\n",
    "                                                                                case=False,\n",
    "                                                                                regex=False), Columns.ROUNDS2_COMPANY_PERMALINK_LOWERCASE] = lowercase_corrected_value\n",
    "    logging.debug(companies[companies[truth_column] == lowercase_corrected_value].to_string())\n",
    "    logging.debug(rounds[rounds[Columns.ROUNDS2_COMPANY_PERMALINK_LOWERCASE] == lowercase_corrected_value].to_string())"
   ]
  },
  {
   "cell_type": "code",
   "execution_count": null,
   "metadata": {},
   "outputs": [],
   "source": [
    "def unique_companies(companies, rounds2):\n",
    "    unique_companies_in_rounds2 = rounds2[Columns.ROUNDS2_COMPANY_PERMALINK_LOWERCASE].unique()\n",
    "    unique_companies_in_companies = companies[Columns.COMPANIES_COMPANY_PERMALINK_LOWERCASE].unique()\n",
    "    return unique_companies_in_companies, unique_companies_in_rounds2"
   ]
  },
  {
   "cell_type": "code",
   "execution_count": 132,
   "metadata": {},
   "outputs": [
    {
     "name": "stderr",
     "output_type": "stream",
     "text": [
      "INFO:root:Companies in rounds2 but not in companies: 39\n",
      "INFO:root:Companies in companies but not in rounds2: 34\n"
     ]
    },
    {
     "name": "stdout",
     "output_type": "stream",
     "text": [
      "Unique companies in rounds2 (Before Cleanup): 66373\n",
      "Unique companies in companies (Before Cleanup): 66368\n",
      "Unique companies in rounds2 (After Cleanup): 66368\n",
      "Unique companies in companies (After Cleanup): 66368\n",
      "Number of Companies: 66368\n",
      "Number of Rounds: 114949\n",
      "MASTER FUNDING FRAME: 114949\n",
      "                             permalink                    name  \\\n",
      "0                  /Organization/-Fame                   #fame   \n",
      "1               /Organization/-Qounter                :Qounter   \n",
      "2               /Organization/-Qounter                :Qounter   \n",
      "3  /Organization/-The-One-Of-Them-Inc-  (THE) ONE of THEM,Inc.   \n",
      "4                /Organization/0-6-Com                 0-6.com   \n",
      "5       /Organization/004-Technologies        004 Technologies   \n",
      "6     /Organization/01Games-Technology      01Games Technology   \n",
      "7  /Organization/0Ndine-Biomedical-Inc  Ondine Biomedical Inc.   \n",
      "8  /Organization/0Ndine-Biomedical-Inc  Ondine Biomedical Inc.   \n",
      "9                 /Organization/0Xdata                  H2O.ai   \n",
      "\n",
      "                        homepage_url  \\\n",
      "0                 http://livfame.com   \n",
      "1             http://www.qounter.com   \n",
      "2             http://www.qounter.com   \n",
      "3                http://oneofthem.jp   \n",
      "4                 http://www.0-6.com   \n",
      "5  http://004gmbh.de/en/004-interact   \n",
      "6             http://www.01games.hk/   \n",
      "7               http://ondinebio.com   \n",
      "8               http://ondinebio.com   \n",
      "9                     http://h2o.ai/   \n",
      "\n",
      "                                       category_list     status country_code  \\\n",
      "0                                              Media  operating          IND   \n",
      "1  Application Platforms|Real Time|Social Network...  operating          USA   \n",
      "2  Application Platforms|Real Time|Social Network...  operating          USA   \n",
      "3                                  Apps|Games|Mobile  operating          NaN   \n",
      "4                                        Curated Web  operating          CHN   \n",
      "5                                           Software  operating          USA   \n",
      "6                                              Games  operating          HKG   \n",
      "7                                      Biotechnology  operating          CAN   \n",
      "8                                      Biotechnology  operating          CAN   \n",
      "9                                          Analytics  operating          USA   \n",
      "\n",
      "  state_code                 region           city  founded_at  \\\n",
      "0         16                 Mumbai         Mumbai         NaN   \n",
      "1         DE             DE - Other  Delaware City  04-09-2014   \n",
      "2         DE             DE - Other  Delaware City  04-09-2014   \n",
      "3        NaN                    NaN            NaN         NaN   \n",
      "4         22                Beijing        Beijing  01-01-2007   \n",
      "5         IL  Springfield, Illinois      Champaign  01-01-2010   \n",
      "6        NaN              Hong Kong      Hong Kong         NaN   \n",
      "7         BC              Vancouver      Vancouver  01-01-1997   \n",
      "8         BC              Vancouver      Vancouver  01-01-1997   \n",
      "9         CA            SF Bay Area  Mountain View  01-01-2011   \n",
      "\n",
      "                   permalink_lowercase                    company_permalink  \\\n",
      "0                  /organization/-fame                  /organization/-fame   \n",
      "1               /organization/-qounter               /ORGANIZATION/-QOUNTER   \n",
      "2               /organization/-qounter               /organization/-qounter   \n",
      "3  /organization/-the-one-of-them-inc-  /ORGANIZATION/-THE-ONE-OF-THEM-INC-   \n",
      "4                /organization/0-6-com                /organization/0-6-com   \n",
      "5       /organization/004-technologies       /ORGANIZATION/004-TECHNOLOGIES   \n",
      "6     /organization/01games-technology     /organization/01games-technology   \n",
      "7  /organization/0ndine-biomedical-inc  /ORGANIZATION/0NDINE-BIOMEDICAL-INC   \n",
      "8  /organization/0ndine-biomedical-inc  /organization/0ndine-biomedical-inc   \n",
      "9                 /organization/0xdata                 /ORGANIZATION/0XDATA   \n",
      "\n",
      "                           funding_round_permalink funding_round_type  \\\n",
      "0  /funding-round/9a01d05418af9f794eebff7ace91f638            venture   \n",
      "1  /funding-round/22dacff496eb7acb2b901dec1dfe5633            venture   \n",
      "2  /funding-round/b44fbb94153f6cdef13083530bb48030               seed   \n",
      "3  /funding-round/650b8f704416801069bb178a1418776b            venture   \n",
      "4  /funding-round/5727accaeaa57461bd22a9bdd945382d            venture   \n",
      "5  /funding-round/1278dd4e6a37fa4b7d7e06c21b3c1830            venture   \n",
      "6  /funding-round/7d53696f2b4f607a2f2a8cbb83d01839        undisclosed   \n",
      "7  /funding-round/2b9d3ac293d5cdccbecff5c8cb0f327d               seed   \n",
      "8  /funding-round/954b9499724b946ad8c396a57a5f3b72            venture   \n",
      "9  /funding-round/383a9bd2c04f7038bb543ccef5ba3eae               seed   \n",
      "\n",
      "  funding_round_code   funded_at  raised_amount_usd  \\\n",
      "0                  B  05-01-2015         10000000.0   \n",
      "1                  A  14-10-2014                NaN   \n",
      "2                NaN  01-03-2014           700000.0   \n",
      "3                  B  30-01-2014          3406878.0   \n",
      "4                  A  19-03-2008          2000000.0   \n",
      "5                NaN  24-07-2014                NaN   \n",
      "6                NaN  01-07-2014            41250.0   \n",
      "7                NaN  11-09-2009            43360.0   \n",
      "8                NaN  21-12-2009           719491.0   \n",
      "9                NaN  22-05-2013          3000000.0   \n",
      "\n",
      "           company_permalink_lowercase         primary_sector  \\\n",
      "0                  /organization/-fame                  Media   \n",
      "1               /organization/-qounter  Application Platforms   \n",
      "2               /organization/-qounter  Application Platforms   \n",
      "3  /organization/-the-one-of-them-inc-                   Apps   \n",
      "4                /organization/0-6-com            Curated Web   \n",
      "5       /organization/004-technologies               Software   \n",
      "6     /organization/01games-technology                  Games   \n",
      "7  /organization/0ndine-biomedical-inc          Biotechnology   \n",
      "8  /organization/0ndine-biomedical-inc          Biotechnology   \n",
      "9                 /organization/0xdata              Analytics   \n",
      "\n",
      "                               main_sector  \n",
      "0                            Entertainment  \n",
      "1               News, Search and Messaging  \n",
      "2               News, Search and Messaging  \n",
      "3               News, Search and Messaging  \n",
      "4               News, Search and Messaging  \n",
      "5                                   Others  \n",
      "6                            Entertainment  \n",
      "7               Cleantech / Semiconductors  \n",
      "8               Cleantech / Semiconductors  \n",
      "9  Social, Finance, Analytics, Advertising  \n",
      "-----------------------------------------\n",
      "English Company Investments: 88439\n",
      "Non-English Company Investments: 26510\n",
      "Only English Investments: 88439\n",
      "Only English Investments of 4 Types: 71607\n",
      "Statistics for seed investments:\n",
      "count      13647.000000\n",
      "mean      506164.700081\n",
      "std       497542.132157\n",
      "min        18150.000000\n",
      "25%       100000.000000\n",
      "50%       300000.000000\n",
      "75%       830000.000000\n",
      "max      1999997.000000\n",
      "Name: raised_amount_usd, dtype: object\n",
      "Statistics for angel investments:\n",
      "count       2737.000000\n",
      "mean      556695.915966\n",
      "std       453186.727484\n",
      "min        31303.000000\n",
      "25%       200000.000000\n",
      "50%       426960.000000\n",
      "75%       829278.000000\n",
      "max      1995251.000000\n",
      "Name: raised_amount_usd, dtype: object\n",
      "Statistics for venture investments:\n",
      "count       35448.000000\n",
      "mean      6421119.470633\n",
      "std       5780493.159192\n",
      "min        200004.000000\n",
      "25%       1800000.000000\n",
      "50%       4750000.000000\n",
      "75%      10000000.000000\n",
      "max      24999999.000000\n",
      "Name: raised_amount_usd, dtype: object\n",
      "Statistics for private_equity investments:\n",
      "count         1332.000000\n",
      "mean      33111012.942192\n",
      "std       36215182.449567\n",
      "min         500000.000000\n",
      "25%        5466074.750000\n",
      "50%       15999998.000000\n",
      "75%       50000000.000000\n",
      "max      142774586.000000\n",
      "Name: raised_amount_usd, dtype: object\n",
      "English-only Venture Investments Selected: 44973\n",
      "Countrywise Investments:\n",
      "   country_code  raised_amount_usd\n",
      "29          USA       4.225108e+11\n",
      "8           GBR       2.024563e+10\n",
      "10          IND       1.439186e+10\n",
      "5           CAN       9.583332e+09\n",
      "12          ISR       6.907515e+09\n",
      "26          SGP       2.793918e+09\n",
      "11          IRL       1.676131e+09\n",
      "1           AUS       1.322935e+09\n",
      "20          MYS       8.830588e+08\n",
      "22          NZL       4.483164e+08\n",
      "0           ARE       3.426175e+08\n",
      "21          NGA       2.454400e+08\n",
      "30          ZAF       2.340629e+08\n",
      "24          PHL       1.144997e+08\n",
      "23          PAK       8.312500e+07\n",
      "7           CYP       8.100000e+07\n",
      "14          KEN       5.394000e+07\n",
      "9           GHA       3.120000e+07\n",
      "13          JOR       2.885000e+07\n",
      "17          MLT       1.772830e+07\n",
      "15          KNA       1.500000e+07\n",
      "16          KWT       1.400000e+07\n",
      "27          TTO       8.500000e+06\n",
      "2           BGD       7.002000e+06\n",
      "28          UGA       2.500000e+06\n",
      "4           BWA       2.250000e+06\n",
      "19          MUS       1.500000e+06\n",
      "6           CMR       3.595610e+05\n",
      "18          MMR       2.000000e+05\n",
      "25          RWA       0.000000e+00\n",
      "3           BHR       0.000000e+00\n",
      "Top 9 Countrywise Investments:\n",
      "   country_code  raised_amount_usd\n",
      "29          USA       4.225108e+11\n",
      "8           GBR       2.024563e+10\n",
      "10          IND       1.439186e+10\n",
      "5           CAN       9.583332e+09\n",
      "12          ISR       6.907515e+09\n",
      "26          SGP       2.793918e+09\n",
      "11          IRL       1.676131e+09\n",
      "1           AUS       1.322935e+09\n",
      "20          MYS       8.830588e+08\n",
      "---------------------------------------------\n",
      "0                               Entertainment\n",
      "1                  News, Search and Messaging\n",
      "5                                      Others\n",
      "8                  Cleantech / Semiconductors\n",
      "10    Social, Finance, Analytics, Advertising\n",
      "11    Social, Finance, Analytics, Advertising\n",
      "12    Social, Finance, Analytics, Advertising\n",
      "22                 News, Search and Messaging\n",
      "28                                     Others\n",
      "33                                     Health\n",
      "Name: main_sector, dtype: object\n",
      "   country_code  raised_amount_usd\n",
      "29          USA       4.225108e+11\n",
      "8           GBR       2.024563e+10\n",
      "10          IND       1.439186e+10\n",
      "5           CAN       9.583332e+09\n",
      "12          ISR       6.907515e+09\n",
      "26          SGP       2.793918e+09\n",
      "11          IRL       1.676131e+09\n",
      "1           AUS       1.322935e+09\n",
      "20          MYS       8.830588e+08\n",
      "USA-GBR-IND\n",
      "1. USA: 12150\n",
      "2. GBR: 628\n",
      "3. IND: 330\n",
      "AGGREGATE_INVESTMENT_STATS_BY_COUNTRY:\n",
      "--------------------------------------\n",
      "  country_code  total_investment_amount  number_of_investments\n",
      "0          USA             1.085313e+11                  12150\n",
      "1          GBR             5.436844e+09                    628\n",
      "2          IND             2.976544e+09                    330\n",
      "SECTORWISE_INVESTMENT_STATISTICS for USA\n",
      "---------------------------------------------\n",
      "                                                  sum  count\n",
      "main_sector                                                 \n",
      "Others                                   2.633301e+10   2951\n",
      "Social, Finance, Analytics, Advertising  2.380738e+10   2714\n",
      "Cleantech / Semiconductors               2.164292e+10   2351\n",
      "News, Search and Messaging               1.395957e+10   1582\n",
      "Health                                   8.211859e+09    909\n",
      "Manufacturing                            7.258553e+09    799\n",
      "Entertainment                            5.099198e+09    591\n",
      "Automotive & Sports                      1.454104e+09    167\n",
      "Blanks                                   7.647633e+08     86\n",
      "SECTORWISE_INVESTMENT_STATISTICS for GBR\n",
      "---------------------------------------------\n",
      "                                                  sum  count\n",
      "main_sector                                                 \n",
      "Others                                   1.283624e+09    147\n",
      "Social, Finance, Analytics, Advertising  1.089404e+09    133\n",
      "Cleantech / Semiconductors               1.163990e+09    130\n",
      "News, Search and Messaging               6.157462e+08     73\n",
      "Entertainment                            4.827847e+08     56\n",
      "Manufacturing                            3.619403e+08     42\n",
      "Health                                   2.145375e+08     24\n",
      "Automotive & Sports                      1.670516e+08     16\n",
      "Blanks                                   5.776485e+07      7\n",
      "SECTORWISE_INVESTMENT_STATISTICS for IND\n",
      "---------------------------------------------\n",
      "                                                  sum  count\n",
      "main_sector                                                 \n",
      "Others                                   1.013410e+09    110\n",
      "Social, Finance, Analytics, Advertising  5.505496e+08     60\n",
      "News, Search and Messaging               4.338345e+08     52\n",
      "Entertainment                            2.808300e+08     33\n",
      "Manufacturing                            2.009000e+08     21\n",
      "Cleantech / Semiconductors               1.653800e+08     20\n",
      "Health                                   1.677400e+08     19\n",
      "Automotive & Sports                      1.369000e+08     13\n",
      "Blanks                                   2.700000e+07      2\n",
      "MOST INVESTED COMPANY IN USA for sector Others, ranked #1: Redline Trading Solutions\n",
      "MOST INVESTED COMPANY IN USA for sector Social, Finance, Analytics, Advertising, ranked #2: Pocket Change\n",
      "-------------------------------------------------------------------\n",
      "MOST INVESTED COMPANY IN GBR for sector Others, ranked #1: Vector Watch\n",
      "MOST INVESTED COMPANY IN GBR for sector Social, Finance, Analytics, Advertising, ranked #2: Zopa\n",
      "-------------------------------------------------------------------\n",
      "MOST INVESTED COMPANY IN IND for sector Others, ranked #1: LimeRoad\n",
      "MOST INVESTED COMPANY IN IND for sector Social, Finance, Analytics, Advertising, ranked #2: Innoviti\n",
      "-------------------------------------------------------------------\n"
     ]
    },
    {
     "data": {
      "image/png": "[encoded data removed]",
      "text/plain": [
       "<Figure size 432x288 with 4 Axes>"
      ]
     },
     "metadata": {
      "needs_background": "light"
     },
     "output_type": "display_data"
    },
    {
     "data": {
      "image/png": "[encoded data removed]",
      "text/plain": [
       "<Figure size 432x288 with 1 Axes>"
      ]
     },
     "metadata": {
      "needs_background": "light"
     },
     "output_type": "display_data"
    },
    {
     "data": {
      "image/png": "[encoded data removed]",
      "text/plain": [
       "<Figure size 432x288 with 3 Axes>"
      ]
     },
     "metadata": {
      "needs_background": "light"
     },
     "output_type": "display_data"
    }
   ],
   "source": [
    "analyse()"
   ]
  },
  {
   "cell_type": "code",
   "execution_count": null,
   "metadata": {},
   "outputs": [],
   "source": []
  }
 ],
 "metadata": {
  "kernelspec": {
   "display_name": "Python 3",
   "language": "python",
   "name": "python3"
  },
  "language_info": {
   "codemirror_mode": {
    "name": "ipython",
    "version": 3
   },
   "file_extension": ".py",
   "mimetype": "text/x-python",
   "name": "python",
   "nbconvert_exporter": "python",
   "pygments_lexer": "ipython3",
   "version": "3.9.1"
  }
 },
 "nbformat": 4,
 "nbformat_minor": 2
}
